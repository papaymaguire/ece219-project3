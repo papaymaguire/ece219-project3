{
 "cells": [
  {
   "cell_type": "code",
   "execution_count": 1,
   "metadata": {},
   "outputs": [],
   "source": [
    "import sys\n",
    "sys.path.insert(0,'../../../ece219-project3')\n",
    "\n",
    "from project3.utils.DataIO import DataIO\n",
    "io = DataIO(\"../data\")\n",
    "\n",
    "import pandas as pd\n",
    "import numpy as np\n",
    "import matplotlib.pyplot as plt\n",
    "from IPython.display import clear_output\n",
    "from IPython.display import display, HTML"
   ]
  },
  {
   "cell_type": "code",
   "execution_count": 2,
   "metadata": {},
   "outputs": [],
   "source": [
    "# Silences warnings from sklearn\n",
    "def warn(*args, **kwargs):\n",
    "    pass\n",
    "import warnings\n",
    "warnings.warn = warn"
   ]
  },
  {
   "cell_type": "code",
   "execution_count": 3,
   "metadata": {},
   "outputs": [],
   "source": [
    "from project3.utils.MslrWeb10kDataset import MslrWeb10kDataset\n",
    "web10k_data = MslrWeb10kDataset()\n",
    "web10k_fold1 = web10k_data.load_one_fold(\"../data/Fold1/\")\n",
    "web10k_fold2 = web10k_data.load_one_fold(\"../data/Fold2/\")\n",
    "web10k_fold3 = web10k_data.load_one_fold(\"../data/Fold3/\")\n",
    "web10k_fold4 = web10k_data.load_one_fold(\"../data/Fold4/\")\n",
    "web10k_fold5 = web10k_data.load_one_fold(\"../data/Fold5/\")"
   ]
  },
  {
   "cell_type": "code",
   "execution_count": 4,
   "metadata": {},
   "outputs": [],
   "source": [
    "folds = [\n",
    "    web10k_fold1,\n",
    "    web10k_fold2,\n",
    "    web10k_fold3,\n",
    "    web10k_fold4,\n",
    "    web10k_fold5\n",
    "]"
   ]
  },
  {
   "cell_type": "code",
   "execution_count": 5,
   "metadata": {},
   "outputs": [],
   "source": [
    "X_train, y_train, qid_train, group_train, X_test, y_test, qid_test, group_test = [i for i in range(8)]"
   ]
  },
  {
   "cell_type": "code",
   "execution_count": 6,
   "metadata": {},
   "outputs": [],
   "source": [
    "unique_qid = lambda fold: len(np.unique(np.concatenate([fold[qid_test], fold[qid_train]])))"
   ]
  },
  {
   "cell_type": "code",
   "execution_count": 7,
   "metadata": {},
   "outputs": [
    {
     "data": {
      "text/plain": [
       "8000"
      ]
     },
     "execution_count": 7,
     "metadata": {},
     "output_type": "execute_result"
    }
   ],
   "source": [
    "unique_qid(web10k_fold1)"
   ]
  },
  {
   "cell_type": "code",
   "execution_count": 8,
   "metadata": {},
   "outputs": [],
   "source": [
    "import matplotlib.pyplot as plt\n",
    "def distribution_relevance(fold):\n",
    "    rel_labels = np.concatenate([fold[y_train], fold[y_test]])\n",
    "    unique, counts = np.unique(rel_labels, return_counts=True)\n",
    "    plt.bar(unique, counts)\n",
    "    plt.xlabel(\"Relevance Label\")\n",
    "    plt.ylabel(\"Occurrences\")\n",
    "    plt.title(\"Distribution of Relevance Labels\")"
   ]
  },
  {
   "cell_type": "code",
   "execution_count": 9,
   "metadata": {},
   "outputs": [
    {
     "data": {
      "image/png": "[encoded data removed]",
      "text/plain": [
       "<Figure size 640x480 with 1 Axes>"
      ]
     },
     "metadata": {},
     "output_type": "display_data"
    }
   ],
   "source": [
    "distribution_relevance(web10k_fold1)"
   ]
  },
  {
   "cell_type": "code",
   "execution_count": 10,
   "metadata": {},
   "outputs": [],
   "source": [
    "import lightgbm\n",
    "def fit_and_score(x_tr, y_tr, g_tr, x_te, y_te, q_te):\n",
    "    model = lightgbm.LGBMModel(objective='lambdarank', n_jobs=-2)\n",
    "    model.fit(X=x_tr, y=y_tr, group=g_tr)\n",
    "    clear_output()\n",
    "    ndcg3 = web10k_data.compute_ndcg_all(model, x_te, y_te, q_te, k=3)\n",
    "    ndcg5 = web10k_data.compute_ndcg_all(model, x_te, y_te, q_te, k=5)\n",
    "    ndcg10 = web10k_data.compute_ndcg_all(model, x_te, y_te, q_te, k=10)\n",
    "    ndcg_ = [ndcg3, ndcg5, ndcg10]\n",
    "    return model, ndcg_\n",
    "\n",
    "def remove_features(train, test, df: pd.DataFrame):\n",
    "    feat_columns = df['feat_column'].values\n",
    "    total_feats = train.shape[1]\n",
    "    to_keep = list(set(range(total_feats)) - set(feat_columns))\n",
    "    altered_train = train[:, to_keep]\n",
    "    altered_test = test[:, to_keep]\n",
    "    return altered_train, altered_test\n",
    "\n",
    "def process_fold(fold):\n",
    "    model, ndcg_ = fit_and_score(fold[X_train], fold[y_train], fold[group_train], fold[X_test], fold[y_test], fold[qid_test])\n",
    "    feature_importance = web10k_data.get_feature_importance(model)\n",
    "    feature_names = [int(i.split(\"_\")[1]) for i in model.booster_.feature_name()]\n",
    "    imp_df = pd.DataFrame({\"feat_column\": feature_names, \"feat_importance\": feature_importance}).sort_values(\"feat_importance\", ascending=False).reset_index(drop=True)\n",
    "    top_5 = imp_df.head(5)\n",
    "    top_20 = imp_df.head(20)\n",
    "    bottom_60 = imp_df.tail(60)\n",
    "    no_top_20_train, no_top_20_test = remove_features(fold[X_train], fold[X_test], top_20)\n",
    "    _, no_top_20_ndcg_ = fit_and_score(no_top_20_train, fold[y_train], fold[group_train], no_top_20_test, fold[y_test], fold[qid_test])\n",
    "    no_bottom_60_train, no_bottom_60_test = remove_features(fold[X_train], fold[X_test], bottom_60)\n",
    "    _, no_bottom_60_ndcg_ = fit_and_score(no_bottom_60_train, fold[y_train], fold[group_train], no_bottom_60_test, fold[y_test], fold[qid_test])\n",
    "    display(HTML(top_5.to_html()))\n",
    "    ndcg_dict = {\n",
    "        \"All Features\": ndcg_,\n",
    "        \"W/O Top 20 Features\": no_top_20_ndcg_,\n",
    "        \"W/O Bottom 60 Features\": no_bottom_60_ndcg_\n",
    "    }\n",
    "    ndcg_df = pd.DataFrame(ndcg_dict, index=[\"nDCG@3\", \"nDCG@5\", \"nDCG@10\"])\n",
    "    display(HTML(ndcg_df.to_html()))"
   ]
  },
  {
   "cell_type": "code",
   "execution_count": 11,
   "metadata": {},
   "outputs": [
    {
     "data": {
      "text/html": [
       "<table border=\"1\" class=\"dataframe\">\n",
       "  <thead>\n",
       "    <tr style=\"text-align: right;\">\n",
       "      <th></th>\n",
       "      <th>feat_column</th>\n",
       "      <th>feat_importance</th>\n",
       "    </tr>\n",
       "  </thead>\n",
       "  <tbody>\n",
       "    <tr>\n",
       "      <th>0</th>\n",
       "      <td>133</td>\n",
       "      <td>23856.702951</td>\n",
       "    </tr>\n",
       "    <tr>\n",
       "      <th>1</th>\n",
       "      <td>7</td>\n",
       "      <td>4248.546391</td>\n",
       "    </tr>\n",
       "    <tr>\n",
       "      <th>2</th>\n",
       "      <td>107</td>\n",
       "      <td>4135.244450</td>\n",
       "    </tr>\n",
       "    <tr>\n",
       "      <th>3</th>\n",
       "      <td>54</td>\n",
       "      <td>4078.463216</td>\n",
       "    </tr>\n",
       "    <tr>\n",
       "      <th>4</th>\n",
       "      <td>129</td>\n",
       "      <td>3635.037024</td>\n",
       "    </tr>\n",
       "  </tbody>\n",
       "</table>"
      ],
      "text/plain": [
       "<IPython.core.display.HTML object>"
      ]
     },
     "metadata": {},
     "output_type": "display_data"
    },
    {
     "data": {
      "text/html": [
       "<table border=\"1\" class=\"dataframe\">\n",
       "  <thead>\n",
       "    <tr style=\"text-align: right;\">\n",
       "      <th></th>\n",
       "      <th>All Features</th>\n",
       "      <th>W/O Top 20 Features</th>\n",
       "      <th>W/O Bottom 60 Features</th>\n",
       "    </tr>\n",
       "  </thead>\n",
       "  <tbody>\n",
       "    <tr>\n",
       "      <th>nDCG@3</th>\n",
       "      <td>0.456457</td>\n",
       "      <td>0.379675</td>\n",
       "      <td>0.454253</td>\n",
       "    </tr>\n",
       "    <tr>\n",
       "      <th>nDCG@5</th>\n",
       "      <td>0.463289</td>\n",
       "      <td>0.385030</td>\n",
       "      <td>0.462657</td>\n",
       "    </tr>\n",
       "    <tr>\n",
       "      <th>nDCG@10</th>\n",
       "      <td>0.482867</td>\n",
       "      <td>0.408364</td>\n",
       "      <td>0.481971</td>\n",
       "    </tr>\n",
       "  </tbody>\n",
       "</table>"
      ],
      "text/plain": [
       "<IPython.core.display.HTML object>"
      ]
     },
     "metadata": {},
     "output_type": "display_data"
    }
   ],
   "source": [
    "process_fold(web10k_fold1)"
   ]
  },
  {
   "cell_type": "code",
   "execution_count": 12,
   "metadata": {},
   "outputs": [
    {
     "data": {
      "text/html": [
       "<table border=\"1\" class=\"dataframe\">\n",
       "  <thead>\n",
       "    <tr style=\"text-align: right;\">\n",
       "      <th></th>\n",
       "      <th>feat_column</th>\n",
       "      <th>feat_importance</th>\n",
       "    </tr>\n",
       "  </thead>\n",
       "  <tbody>\n",
       "    <tr>\n",
       "      <th>0</th>\n",
       "      <td>133</td>\n",
       "      <td>23578.908250</td>\n",
       "    </tr>\n",
       "    <tr>\n",
       "      <th>1</th>\n",
       "      <td>7</td>\n",
       "      <td>5157.964912</td>\n",
       "    </tr>\n",
       "    <tr>\n",
       "      <th>2</th>\n",
       "      <td>54</td>\n",
       "      <td>4386.669757</td>\n",
       "    </tr>\n",
       "    <tr>\n",
       "      <th>3</th>\n",
       "      <td>107</td>\n",
       "      <td>4094.012172</td>\n",
       "    </tr>\n",
       "    <tr>\n",
       "      <th>4</th>\n",
       "      <td>129</td>\n",
       "      <td>4035.070673</td>\n",
       "    </tr>\n",
       "  </tbody>\n",
       "</table>"
      ],
      "text/plain": [
       "<IPython.core.display.HTML object>"
      ]
     },
     "metadata": {},
     "output_type": "display_data"
    },
    {
     "data": {
      "text/html": [
       "<table border=\"1\" class=\"dataframe\">\n",
       "  <thead>\n",
       "    <tr style=\"text-align: right;\">\n",
       "      <th></th>\n",
       "      <th>All Features</th>\n",
       "      <th>W/O Top 20 Features</th>\n",
       "      <th>W/O Bottom 60 Features</th>\n",
       "    </tr>\n",
       "  </thead>\n",
       "  <tbody>\n",
       "    <tr>\n",
       "      <th>nDCG@3</th>\n",
       "      <td>0.453890</td>\n",
       "      <td>0.373945</td>\n",
       "      <td>0.457290</td>\n",
       "    </tr>\n",
       "    <tr>\n",
       "      <th>nDCG@5</th>\n",
       "      <td>0.457329</td>\n",
       "      <td>0.381954</td>\n",
       "      <td>0.460267</td>\n",
       "    </tr>\n",
       "    <tr>\n",
       "      <th>nDCG@10</th>\n",
       "      <td>0.476755</td>\n",
       "      <td>0.404503</td>\n",
       "      <td>0.477253</td>\n",
       "    </tr>\n",
       "  </tbody>\n",
       "</table>"
      ],
      "text/plain": [
       "<IPython.core.display.HTML object>"
      ]
     },
     "metadata": {},
     "output_type": "display_data"
    }
   ],
   "source": [
    "process_fold(web10k_fold2)"
   ]
  },
  {
   "cell_type": "code",
   "execution_count": 13,
   "metadata": {},
   "outputs": [
    {
     "data": {
      "text/html": [
       "<table border=\"1\" class=\"dataframe\">\n",
       "  <thead>\n",
       "    <tr style=\"text-align: right;\">\n",
       "      <th></th>\n",
       "      <th>feat_column</th>\n",
       "      <th>feat_importance</th>\n",
       "    </tr>\n",
       "  </thead>\n",
       "  <tbody>\n",
       "    <tr>\n",
       "      <th>0</th>\n",
       "      <td>133</td>\n",
       "      <td>23218.075441</td>\n",
       "    </tr>\n",
       "    <tr>\n",
       "      <th>1</th>\n",
       "      <td>54</td>\n",
       "      <td>4991.303372</td>\n",
       "    </tr>\n",
       "    <tr>\n",
       "      <th>2</th>\n",
       "      <td>107</td>\n",
       "      <td>4226.807395</td>\n",
       "    </tr>\n",
       "    <tr>\n",
       "      <th>3</th>\n",
       "      <td>129</td>\n",
       "      <td>4059.752514</td>\n",
       "    </tr>\n",
       "    <tr>\n",
       "      <th>4</th>\n",
       "      <td>7</td>\n",
       "      <td>3691.792320</td>\n",
       "    </tr>\n",
       "  </tbody>\n",
       "</table>"
      ],
      "text/plain": [
       "<IPython.core.display.HTML object>"
      ]
     },
     "metadata": {},
     "output_type": "display_data"
    },
    {
     "data": {
      "text/html": [
       "<table border=\"1\" class=\"dataframe\">\n",
       "  <thead>\n",
       "    <tr style=\"text-align: right;\">\n",
       "      <th></th>\n",
       "      <th>All Features</th>\n",
       "      <th>W/O Top 20 Features</th>\n",
       "      <th>W/O Bottom 60 Features</th>\n",
       "    </tr>\n",
       "  </thead>\n",
       "  <tbody>\n",
       "    <tr>\n",
       "      <th>nDCG@3</th>\n",
       "      <td>0.449068</td>\n",
       "      <td>0.382383</td>\n",
       "      <td>0.449790</td>\n",
       "    </tr>\n",
       "    <tr>\n",
       "      <th>nDCG@5</th>\n",
       "      <td>0.458348</td>\n",
       "      <td>0.389996</td>\n",
       "      <td>0.458640</td>\n",
       "    </tr>\n",
       "    <tr>\n",
       "      <th>nDCG@10</th>\n",
       "      <td>0.475895</td>\n",
       "      <td>0.411636</td>\n",
       "      <td>0.477436</td>\n",
       "    </tr>\n",
       "  </tbody>\n",
       "</table>"
      ],
      "text/plain": [
       "<IPython.core.display.HTML object>"
      ]
     },
     "metadata": {},
     "output_type": "display_data"
    }
   ],
   "source": [
    "process_fold(web10k_fold3)"
   ]
  },
  {
   "cell_type": "code",
   "execution_count": 14,
   "metadata": {},
   "outputs": [
    {
     "data": {
      "text/html": [
       "<table border=\"1\" class=\"dataframe\">\n",
       "  <thead>\n",
       "    <tr style=\"text-align: right;\">\n",
       "      <th></th>\n",
       "      <th>feat_column</th>\n",
       "      <th>feat_importance</th>\n",
       "    </tr>\n",
       "  </thead>\n",
       "  <tbody>\n",
       "    <tr>\n",
       "      <th>0</th>\n",
       "      <td>133</td>\n",
       "      <td>23796.899673</td>\n",
       "    </tr>\n",
       "    <tr>\n",
       "      <th>1</th>\n",
       "      <td>7</td>\n",
       "      <td>4622.622978</td>\n",
       "    </tr>\n",
       "    <tr>\n",
       "      <th>2</th>\n",
       "      <td>54</td>\n",
       "      <td>3883.481706</td>\n",
       "    </tr>\n",
       "    <tr>\n",
       "      <th>3</th>\n",
       "      <td>129</td>\n",
       "      <td>3356.846980</td>\n",
       "    </tr>\n",
       "    <tr>\n",
       "      <th>4</th>\n",
       "      <td>128</td>\n",
       "      <td>3207.575537</td>\n",
       "    </tr>\n",
       "  </tbody>\n",
       "</table>"
      ],
      "text/plain": [
       "<IPython.core.display.HTML object>"
      ]
     },
     "metadata": {},
     "output_type": "display_data"
    },
    {
     "data": {
      "text/html": [
       "<table border=\"1\" class=\"dataframe\">\n",
       "  <thead>\n",
       "    <tr style=\"text-align: right;\">\n",
       "      <th></th>\n",
       "      <th>All Features</th>\n",
       "      <th>W/O Top 20 Features</th>\n",
       "      <th>W/O Bottom 60 Features</th>\n",
       "    </tr>\n",
       "  </thead>\n",
       "  <tbody>\n",
       "    <tr>\n",
       "      <th>nDCG@3</th>\n",
       "      <td>0.461179</td>\n",
       "      <td>0.381977</td>\n",
       "      <td>0.460635</td>\n",
       "    </tr>\n",
       "    <tr>\n",
       "      <th>nDCG@5</th>\n",
       "      <td>0.466386</td>\n",
       "      <td>0.392810</td>\n",
       "      <td>0.467340</td>\n",
       "    </tr>\n",
       "    <tr>\n",
       "      <th>nDCG@10</th>\n",
       "      <td>0.487725</td>\n",
       "      <td>0.412107</td>\n",
       "      <td>0.488881</td>\n",
       "    </tr>\n",
       "  </tbody>\n",
       "</table>"
      ],
      "text/plain": [
       "<IPython.core.display.HTML object>"
      ]
     },
     "metadata": {},
     "output_type": "display_data"
    }
   ],
   "source": [
    "process_fold(web10k_fold4)"
   ]
  },
  {
   "cell_type": "code",
   "execution_count": 15,
   "metadata": {},
   "outputs": [
    {
     "data": {
      "text/html": [
       "<table border=\"1\" class=\"dataframe\">\n",
       "  <thead>\n",
       "    <tr style=\"text-align: right;\">\n",
       "      <th></th>\n",
       "      <th>feat_column</th>\n",
       "      <th>feat_importance</th>\n",
       "    </tr>\n",
       "  </thead>\n",
       "  <tbody>\n",
       "    <tr>\n",
       "      <th>0</th>\n",
       "      <td>133</td>\n",
       "      <td>23540.942354</td>\n",
       "    </tr>\n",
       "    <tr>\n",
       "      <th>1</th>\n",
       "      <td>7</td>\n",
       "      <td>4794.945172</td>\n",
       "    </tr>\n",
       "    <tr>\n",
       "      <th>2</th>\n",
       "      <td>54</td>\n",
       "      <td>4079.608554</td>\n",
       "    </tr>\n",
       "    <tr>\n",
       "      <th>3</th>\n",
       "      <td>107</td>\n",
       "      <td>3514.835752</td>\n",
       "    </tr>\n",
       "    <tr>\n",
       "      <th>4</th>\n",
       "      <td>129</td>\n",
       "      <td>3209.058444</td>\n",
       "    </tr>\n",
       "  </tbody>\n",
       "</table>"
      ],
      "text/plain": [
       "<IPython.core.display.HTML object>"
      ]
     },
     "metadata": {},
     "output_type": "display_data"
    },
    {
     "data": {
      "text/html": [
       "<table border=\"1\" class=\"dataframe\">\n",
       "  <thead>\n",
       "    <tr style=\"text-align: right;\">\n",
       "      <th></th>\n",
       "      <th>All Features</th>\n",
       "      <th>W/O Top 20 Features</th>\n",
       "      <th>W/O Bottom 60 Features</th>\n",
       "    </tr>\n",
       "  </thead>\n",
       "  <tbody>\n",
       "    <tr>\n",
       "      <th>nDCG@3</th>\n",
       "      <td>0.469634</td>\n",
       "      <td>0.384283</td>\n",
       "      <td>0.470186</td>\n",
       "    </tr>\n",
       "    <tr>\n",
       "      <th>nDCG@5</th>\n",
       "      <td>0.471432</td>\n",
       "      <td>0.392168</td>\n",
       "      <td>0.473352</td>\n",
       "    </tr>\n",
       "    <tr>\n",
       "      <th>nDCG@10</th>\n",
       "      <td>0.490359</td>\n",
       "      <td>0.416687</td>\n",
       "      <td>0.490817</td>\n",
       "    </tr>\n",
       "  </tbody>\n",
       "</table>"
      ],
      "text/plain": [
       "<IPython.core.display.HTML object>"
      ]
     },
     "metadata": {},
     "output_type": "display_data"
    }
   ],
   "source": [
    "process_fold(web10k_fold5)"
   ]
  }
 ],
 "metadata": {
  "kernelspec": {
   "display_name": "ece219",
   "language": "python",
   "name": "python3"
  },
  "language_info": {
   "codemirror_mode": {
    "name": "ipython",
    "version": 3
   },
   "file_extension": ".py",
   "mimetype": "text/x-python",
   "name": "python",
   "nbconvert_exporter": "python",
   "pygments_lexer": "ipython3",
   "version": "3.11.9"
  }
 },
 "nbformat": 4,
 "nbformat_minor": 2
}
